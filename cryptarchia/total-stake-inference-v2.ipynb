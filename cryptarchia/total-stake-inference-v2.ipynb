{
 "cells": [
  {
   "cell_type": "code",
   "execution_count": 1,
   "id": "f443be50-1b6b-41e2-ad7c-5ac96a92d620",
   "metadata": {},
   "outputs": [],
   "source": [
    "import numpy as np\n",
    "import matplotlib.pyplot as plt\n",
    "from dataclasses import dataclass"
   ]
  },
  {
   "cell_type": "code",
   "execution_count": 2,
   "id": "fb9d4f63-ec30-453f-bcd0-569bbec371dd",
   "metadata": {},
   "outputs": [],
   "source": [
    "# Cryptarchia lottery function\n",
    "\n",
    "def phi(f, alpha):\n",
    "    return 1 - (1-f)**alpha"
   ]
  },
  {
   "cell_type": "code",
   "execution_count": 3,
   "id": "f48a89b1-4344-40e5-bf5a-daf62ec78c28",
   "metadata": {},
   "outputs": [
    {
     "data": {
      "image/png": "[encoded data removed]",
      "text/plain": [
       "<Figure size 640x480 with 1 Axes>"
      ]
     },
     "metadata": {},
     "output_type": "display_data"
    }
   ],
   "source": [
    "# Generate stake distribution\n",
    "total_notes = 200\n",
    "\n",
    "stake = np.random.pareto(5, total_notes)\n",
    "_ = plt.hist(stake, bins=100)"
   ]
  },
  {
   "cell_type": "code",
   "execution_count": 4,
   "id": "f9897d4a-07e4-4742-89e4-62b5c6b8f353",
   "metadata": {},
   "outputs": [
    {
     "data": {
      "text/plain": [
       "np.float64(49.31998548375692)"
      ]
     },
     "execution_count": 4,
     "metadata": {},
     "output_type": "execute_result"
    }
   ],
   "source": [
    "# True Total Stake\n",
    "true_stake = np.array(stake).sum()\n",
    "true_stake"
   ]
  },
  {
   "cell_type": "code",
   "execution_count": 5,
   "id": "a86cc4b3-1b4b-4d41-9d83-db714226a3fc",
   "metadata": {},
   "outputs": [],
   "source": [
    "f = 1/30 # occupancy rate\n",
    "T = int(10 * 2160 / f) # epoch length, 10k/f"
   ]
  },
  {
   "cell_type": "code",
   "execution_count": null,
   "id": "ebf4d81d-a921-4afa-a847-1b13f8eea248",
   "metadata": {},
   "outputs": [],
   "source": [
    "epochs = 30\n",
    "shock_size = [5, 10, 25, 50]\n",
    "sims = 100\n",
    "beta = 0.8\n",
    "\n",
    "D_values = []\n",
    "D_values_hi = []\n",
    "\n",
    "def run_simulation(D_init, stake, sims, epochs, T):\n",
    "    results = []\n",
    "    for k in range(sims):\n",
    "        D_ell = D_init\n",
    "        D_sim = np.empty(epochs)\n",
    "        \n",
    "        for i in range(epochs):\n",
    "            D_sim[i] = D_ell\n",
    "\n",
    "            alpha = stake / D_ell\n",
    "            p_lottery = phi(f, alpha)\n",
    "            wins = np.random.uniform(0, 1, (T, len(stake))) < p_lottery\n",
    "\n",
    "            empirical_slot_activation_rate = np.count_nonzero(np.sum(wins, axis=1)) / T\n",
    "            error = f - empirical_slot_activation_rate\n",
    "\n",
    "            h = beta * (D_ell / f)\n",
    "            D_ell = D_ell - h * error\n",
    "\n",
    "        results.append(D_sim)\n",
    "    \n",
    "    return results\n",
    "\n",
    "for shock in shock_size:\n",
    "\n",
    "    # Low shock run\n",
    "    D_init_low = true_stake - (true_stake * shock / 100)\n",
    "    D_values.append(run_simulation(D_init_low, stake, sims, epochs, T))\n",
    "    print(f\"Low shock {shock}% done.\")\n",
    "\n",
    "    # High shock run\n",
    "    D_init_hi = true_stake + (true_stake * shock / 100)\n",
    "    D_values_hi.append(run_simulation(D_init_hi, stake, sims, epochs, T))\n",
    "    print(f\"High shock {shock}% done.\")\n"
   ]
  },
  {
   "cell_type": "code",
   "execution_count": null,
   "id": "e0ec9157-b947-4c81-970e-44aaaab92690",
   "metadata": {},
   "outputs": [],
   "source": []
  },
  {
   "cell_type": "code",
   "execution_count": null,
   "id": "403dd825-b4f7-4c57-8b08-9f7bfdb58a9a",
   "metadata": {},
   "outputs": [],
   "source": []
  },
  {
   "cell_type": "code",
   "execution_count": null,
   "id": "e993f286-400b-4338-84fe-b1ef00325056",
   "metadata": {},
   "outputs": [],
   "source": [
    "# plot convergence for lower estimates\n",
    "for j in range(0, len(shock_size)):\n",
    "    for k in range(0, sims):\n",
    "        plt.plot(range(0, epochs), D_values[j][k])\n",
    "        plt.plot(range(0, epochs), np.full_like(range(0, epochs), true_stake, dtype=float))\n",
    "        plt.xlabel(\"Epoch\")\n",
    "        plt.ylabel(\"Stake\")\n",
    "        plt.title(f\"Stake estimate convergence after a {shock_size[j]}% shock (increase)\")\n",
    "    plt.show()"
   ]
  },
  {
   "cell_type": "code",
   "execution_count": null,
   "id": "f6e41015-2290-4869-8dd2-657971b1815c",
   "metadata": {},
   "outputs": [],
   "source": [
    "# plot convergence for higher estimates\n",
    "for j in range(0, len(shock_size)):\n",
    "    for k in range(0, sims):\n",
    "        plt.plot(range(0, epochs), D_values[j][k])\n",
    "        plt.plot(range(0, epochs), np.full_like(range(0, epochs), true_stake, dtype=float))\n",
    "        plt.xlabel(\"Epoch\")\n",
    "        plt.ylabel(\"Stake\")\n",
    "        plt.title(f\"Stake estimate convergence after a {shock_size[j]}% shock (decrease)\")\n",
    "    plt.show()"
   ]
  },
  {
   "cell_type": "code",
   "execution_count": null,
   "id": "86972409-8881-462b-b5c0-d06b98c7474f",
   "metadata": {},
   "outputs": [],
   "source": [
    "# plot error for lower estimates\n",
    "for j in range(0, len(shock_size)):\n",
    "    for k in range(0, sims):\n",
    "        plt.plot(range(0, epochs), np.abs((D_values[j][k] - true_stake) / true_stake))\n",
    "        plt.xlabel(\"Epoch\")\n",
    "        plt.ylabel(\"Normalised error\")\n",
    "        plt.title(f\"Normalised error after a {shock_size[j]}% shock (increase)\")\n",
    "    plt.show()"
   ]
  },
  {
   "cell_type": "code",
   "execution_count": null,
   "id": "a2803c7a-e020-48ae-87b8-19722673e2a1",
   "metadata": {},
   "outputs": [],
   "source": [
    "# plot error for higher estimates\n",
    "for j in range(0, len(shock_size)):\n",
    "    for k in range(0, sims):\n",
    "        plt.plot(range(0, epochs), np.abs((D_values_hi[j][k] - true_stake) / true_stake))\n",
    "        plt.xlabel(\"Epoch\")\n",
    "        plt.ylabel(\"Normalised error\")\n",
    "        plt.title(f\"Normalised error after a {shock_size[j]}% shock (decrease)\")\n",
    "    plt.show()"
   ]
  },
  {
   "cell_type": "code",
   "execution_count": null,
   "id": "b2b42a9b-1d45-444f-b284-cf425651c90b",
   "metadata": {},
   "outputs": [],
   "source": []
  }
 ],
 "metadata": {
  "kernelspec": {
   "display_name": "Python 3 (ipykernel)",
   "language": "python",
   "name": "python3"
  },
  "language_info": {
   "codemirror_mode": {
    "name": "ipython",
    "version": 3
   },
   "file_extension": ".py",
   "mimetype": "text/x-python",
   "name": "python",
   "nbconvert_exporter": "python",
   "pygments_lexer": "ipython3",
   "version": "3.10.12"
  }
 },
 "nbformat": 4,
 "nbformat_minor": 5
}
