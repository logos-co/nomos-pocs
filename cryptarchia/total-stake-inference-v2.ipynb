{
 "cells": [
  {
   "cell_type": "code",
   "execution_count": 9,
   "id": "f443be50-1b6b-41e2-ad7c-5ac96a92d620",
   "metadata": {},
   "outputs": [],
   "source": [
    "import numpy as np\n",
    "import matplotlib.pyplot as plt\n",
    "from dataclasses import dataclass"
   ]
  },
  {
   "cell_type": "code",
   "execution_count": 176,
   "id": "fb9d4f63-ec30-453f-bcd0-569bbec371dd",
   "metadata": {},
   "outputs": [],
   "source": [
    "# cryptarchia lottery function\n",
    "\n",
    "def phi(f, alpha):\n",
    "    return 1 - (1-f)**alpha"
   ]
  },
  {
   "cell_type": "code",
   "execution_count": 178,
   "id": "f48a89b1-4344-40e5-bf5a-daf62ec78c28",
   "metadata": {},
   "outputs": [
    {
     "data": {
      "image/png": "[encoded data removed]",
      "text/plain": [
       "<Figure size 640x480 with 1 Axes>"
      ]
     },
     "metadata": {},
     "output_type": "display_data"
    }
   ],
   "source": [
    "# Generate stake distribution\n",
    "\n",
    "stake = np.random.pareto(5, 1000)\n",
    "_ = plt.hist(stake, bins=100)"
   ]
  },
  {
   "cell_type": "code",
   "execution_count": 189,
   "id": "f9897d4a-07e4-4742-89e4-62b5c6b8f353",
   "metadata": {},
   "outputs": [
    {
     "data": {
      "text/plain": [
       "np.float64(252.8198890263855)"
      ]
     },
     "execution_count": 189,
     "metadata": {},
     "output_type": "execute_result"
    }
   ],
   "source": [
    "# True Total Stake\n",
    "stake.sum()"
   ]
  },
  {
   "cell_type": "code",
   "execution_count": 185,
   "id": "a86cc4b3-1b4b-4d41-9d83-db714226a3fc",
   "metadata": {},
   "outputs": [],
   "source": [
    "T = 388800\n",
    "f = 1/30\n",
    "D_ell = 88.99380507797717\n",
    "\n",
    "\n",
    "# Running one epoch of the cryptarchia lottery\n",
    "\n",
    "alpha = stake / D_ell\n",
    "p_lottery = phi(f, alpha)\n",
    "wins = np.random.uniform(0, 1, (T, len(stake))) < p_lottery"
   ]
  },
  {
   "cell_type": "code",
   "execution_count": 190,
   "id": "e993f286-400b-4338-84fe-b1ef00325056",
   "metadata": {},
   "outputs": [
    {
     "data": {
      "text/plain": [
       "np.float64(214.7003014729989)"
      ]
     },
     "execution_count": 190,
     "metadata": {},
     "output_type": "execute_result"
    }
   ],
   "source": [
    "# Total Stake Inference\n",
    "\n",
    "empirical_slot_activation_rate = (wins.sum(axis=1) != 0).sum() / T\n",
    "error = f - empirical_slot_activation_rate\n",
    "\n",
    "beta = 0.8\n",
    "\n",
    "h = beta * (D_ell / f)\n",
    "D_next = D_ell - h * error\n",
    "D_next"
   ]
  },
  {
   "cell_type": "code",
   "execution_count": null,
   "id": "51484f42-1991-4e82-9f24-857ae679cbe4",
   "metadata": {},
   "outputs": [],
   "source": []
  },
  {
   "cell_type": "code",
   "execution_count": null,
   "id": "07cc2be0-f5e7-4584-8188-010df76529c1",
   "metadata": {},
   "outputs": [],
   "source": []
  }
 ],
 "metadata": {
  "kernelspec": {
   "display_name": "Python 3 (ipykernel)",
   "language": "python",
   "name": "python3"
  },
  "language_info": {
   "codemirror_mode": {
    "name": "ipython",
    "version": 3
   },
   "file_extension": ".py",
   "mimetype": "text/x-python",
   "name": "python",
   "nbconvert_exporter": "python",
   "pygments_lexer": "ipython3",
   "version": "3.9.6"
  }
 },
 "nbformat": 4,
 "nbformat_minor": 5
}
