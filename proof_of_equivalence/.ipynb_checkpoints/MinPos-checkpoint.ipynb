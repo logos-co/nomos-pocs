{
 "cells": [
  {
   "cell_type": "code",
   "execution_count": 126,
   "id": "30834567",
   "metadata": {},
   "outputs": [],
   "source": [
    "p = 65000549695646603732796438742359905742570406053903786389881062969044166799969\n",
    "import json\n",
    "F= FiniteField(p)\n",
    "\n",
    "n = 15 #nombre de robot\n",
    "m = 20 #nombre de tache\n",
    "borne = 127 # positions entre 0 et borne"
   ]
  },
  {
   "cell_type": "code",
   "execution_count": 127,
   "id": "69686a85",
   "metadata": {},
   "outputs": [],
   "source": [
    "robots = [[F(int(random()*borne)),F(int(random()*borne))] for i in range(n)]\n",
    "\n",
    "taches = [[F(int(random()*borne)),F(int(random()*borne))] for i in range(m)]\n"
   ]
  },
  {
   "cell_type": "raw",
   "id": "4cc0e6c8",
   "metadata": {},
   "source": []
  },
  {
   "cell_type": "raw",
   "id": "1aed5f4e",
   "metadata": {},
   "source": []
  },
  {
   "cell_type": "code",
   "execution_count": 128,
   "id": "ce20e261",
   "metadata": {},
   "outputs": [
    {
     "data": {
      "text/plain": [
       "[[96, 16],\n",
       " [106, 13],\n",
       " [63, 13],\n",
       " [54, 57],\n",
       " [80, 41],\n",
       " [11, 78],\n",
       " [96, 66],\n",
       " [88, 69],\n",
       " [99, 55],\n",
       " [68, 118],\n",
       " [2, 92],\n",
       " [86, 28],\n",
       " [61, 77],\n",
       " [96, 74],\n",
       " [114, 111]]"
      ]
     },
     "execution_count": 128,
     "metadata": {},
     "output_type": "execute_result"
    }
   ],
   "source": [
    "robots"
   ]
  },
  {
   "cell_type": "code",
   "execution_count": 129,
   "id": "edc621d1",
   "metadata": {},
   "outputs": [
    {
     "data": {
      "text/plain": [
       "[[14, 92],\n",
       " [12, 55],\n",
       " [68, 78],\n",
       " [102, 2],\n",
       " [37, 41],\n",
       " [98, 64],\n",
       " [101, 69],\n",
       " [121, 53],\n",
       " [71, 84],\n",
       " [80, 115],\n",
       " [127, 44],\n",
       " [68, 105],\n",
       " [14, 117],\n",
       " [127, 61],\n",
       " [65, 67],\n",
       " [17, 27],\n",
       " [39, 97],\n",
       " [45, 60],\n",
       " [30, 22],\n",
       " [49, 3]]"
      ]
     },
     "execution_count": 129,
     "metadata": {},
     "output_type": "execute_result"
    }
   ],
   "source": [
    "taches"
   ]
  },
  {
   "cell_type": "code",
   "execution_count": 130,
   "id": "f46a80f9",
   "metadata": {},
   "outputs": [
    {
     "name": "stdout",
     "output_type": "stream",
     "text": [
      "La tache 1 est attribuée à : Robot 11 \n",
      "La tache 2 est attribuée à : Robot 6 \n",
      "La tache 3 est attribuée à : Robot 8  Robot 13 \n",
      "La tache 4 est attribuée à : Robot 1  Robot 2 \n",
      "La tache 5 est attribuée à : Robot 4  Robot 5 \n",
      "La tache 6 est attribuée à : Robot 7 \n",
      "La tache 7 est attribuée à : Robot 14 \n",
      "La tache 8 est attribuée à : Robot 9 \n",
      "La tache 9 est attribuée à : -\n",
      "La tache 10 est attribuée à : Robot 10  Robot 15 \n",
      "La tache 11 est attribuée à : -\n",
      "La tache 12 est attribuée à : -\n",
      "La tache 13 est attribuée à : -\n",
      "La tache 14 est attribuée à : -\n",
      "La tache 15 est attribuée à : -\n",
      "La tache 16 est attribuée à : -\n",
      "La tache 17 est attribuée à : -\n",
      "La tache 18 est attribuée à : -\n",
      "La tache 19 est attribuée à : Robot 3 \n",
      "La tache 20 est attribuée à : Robot 12 \n"
     ]
    }
   ],
   "source": [
    "#Algo\n",
    "distance = [[F((taches[i][0] - robots[j][0])**2 + (taches[i][1] - robots[j][1])**2) for i in range(m)] for j in range(n)]\n",
    "\n",
    "position = [[F(0) for j in range(m)] for i in range(n)] # calcul des P_ij\n",
    "for i in range(n):\n",
    "    for k in range(n):\n",
    "        if(k != i):\n",
    "            for j in range(m):\n",
    "                if(distance[k][j] < distance[i][j]):\n",
    "                    position[i][j] += 1\n",
    "                    \n",
    "                    \n",
    "                    \n",
    "attribution = [[F(0) for j in range(m)] for i in range(n)] # attribution correspond à la matrice A du papier\n",
    "attribution_v2 = [F(0) for i in range(n)] # attribution_v2 la case i représente la tache assigné au robot i.\n",
    "\n",
    "for i in range(n):\n",
    "    mini = position[i][0]\n",
    "    idx = 0\n",
    "    for j in range(m):\n",
    "        if(position[i][j] < mini):\n",
    "            idx = j\n",
    "            mini = position[i][j]\n",
    "    attribution[i][idx] = 1\n",
    "    attribution_v2[i] = idx+1\n",
    "\n",
    "for j in range(m):\n",
    "    compteur = True\n",
    "    print(\"La tache \"+str(j+1)+\" est attribuée à :\", end='')\n",
    "    for i in range(n):\n",
    "        if(attribution[i][j]):\n",
    "            print(\" Robot \"+str(i+1)+\" \",end='')\n",
    "            compteur = False\n",
    "    if(compteur):\n",
    "        print(\" -\",end=\"\")\n",
    "    print()"
   ]
  },
  {
   "cell_type": "code",
   "execution_count": 131,
   "id": "ebf05832",
   "metadata": {},
   "outputs": [],
   "source": [
    "sortie = [\"0\",\"0\",\"0\",\"0\",\"0\",\"0\",\"0\",\"1\",\"0\",\"0\",\"0\",\"0\",\"0\",\"0\",\"0\",\"0\",\"0\",\"0\",\"1\",\"0\",\"0\",\"0\",\"0\",\"0\",\"0\",\"0\",\"0\",\"0\",\"0\",\"0\",\"0\",\"0\",\"1\",\"0\",\"0\",\"0\",\"0\",\"0\",\"0\",\"0\",\"0\",\"0\",\"0\",\"0\",\"0\",\"0\",\"0\",\"0\",\"0\",\"1\",\"0\",\"0\",\"0\",\"0\",\"0\",\"0\",\"0\",\"0\",\"0\",\"0\",\"0\",\"0\",\"0\",\"0\",\"0\",\"1\",\"0\",\"0\",\"0\",\"0\",\"0\",\"0\",\"0\",\"0\",\"0\",\"1\",\"0\",\"0\",\"0\",\"0\",\"0\",\"0\",\"0\",\"0\",\"0\",\"0\",\"0\",\"0\",\"0\",\"0\",\"0\",\"0\",\"0\",\"0\",\"0\",\"0\",\"1\",\"0\",\"0\",\"0\",\"0\",\"0\",\"0\",\"0\",\"0\",\"0\",\"1\",\"0\",\"0\",\"0\",\"0\",\"0\",\"0\",\"0\",\"0\",\"0\",\"0\",\"0\",\"0\",\"0\",\"1\",\"0\",\"0\",\"0\",\"0\",\"0\",\"0\",\"0\",\"0\",\"0\",\"0\",\"0\",\"0\",\"0\",\"0\",\"0\",\"1\",\"0\",\"0\",\"0\",\"0\",\"0\",\"0\",\"0\",\"0\",\"0\",\"0\",\"0\",\"0\",\"0\"]"
   ]
  },
  {
   "cell_type": "code",
   "execution_count": 132,
   "id": "a965d7f6",
   "metadata": {},
   "outputs": [
    {
     "data": {
      "text/plain": [
       "[[13, 12, 13, 1, 9, 8, 9, 7, 13, 12, 3, 13, 13, 8, 11, 7, 13, 12, 6, 2],\n",
       " [14, 13, 14, 0, 12, 10, 10, 4, 14, 14, 1, 14, 14, 6, 14, 11, 14, 13, 10, 5],\n",
       " [10, 4, 11, 3, 1, 12, 12, 11, 12, 13, 9, 12, 12, 11, 9, 1, 12, 5, 0, 0],\n",
       " [3, 2, 2, 9, 0, 7, 8, 10, 4, 7, 11, 6, 4, 10, 1, 0, 4, 0, 1, 4],\n",
       " [6, 5, 6, 4, 2, 4, 4, 4, 7, 8, 7, 9, 9, 4, 3, 3, 8, 3, 2, 3],\n",
       " [1, 0, 10, 12, 4, 13, 13, 13, 10, 9, 13, 8, 1, 13, 10, 2, 1, 2, 4, 10],\n",
       " [8, 9, 4, 6, 9, 0, 0, 1, 3, 5, 2, 5, 7, 1, 4, 10, 7, 6, 11, 9],\n",
       " [5, 6, 1, 7, 6, 3, 2, 3, 1, 4, 6, 2, 5, 3, 2, 8, 5, 4, 7, 8],\n",
       " [9, 11, 5, 5, 8, 1, 3, 0, 6, 6, 0, 7, 10, 0, 6, 9, 9, 10, 9, 6],\n",
       " [4, 8, 7, 13, 13, 11, 11, 12, 5, 0, 12, 0, 2, 12, 8, 13, 2, 11, 13, 13],\n",
       " [0, 1, 12, 14, 7, 14, 14, 14, 11, 10, 14, 10, 0, 14, 13, 5, 3, 9, 8, 12],\n",
       " [11, 7, 8, 2, 5, 5, 6, 6, 9, 11, 5, 11, 11, 7, 7, 6, 11, 7, 3, 1],\n",
       " [2, 3, 0, 10, 3, 6, 5, 9, 0, 2, 10, 1, 3, 9, 0, 4, 0, 1, 5, 7],\n",
       " [7, 10, 3, 8, 11, 2, 1, 2, 2, 3, 4, 3, 6, 2, 5, 12, 6, 8, 12, 11],\n",
       " [12, 14, 9, 11, 14, 9, 7, 8, 8, 1, 8, 4, 8, 5, 12, 14, 10, 14, 14, 14]]"
      ]
     },
     "execution_count": 132,
     "metadata": {},
     "output_type": "execute_result"
    }
   ],
   "source": [
    "position"
   ]
  },
  {
   "cell_type": "code",
   "execution_count": null,
   "id": "5942b82d",
   "metadata": {},
   "outputs": [],
   "source": []
  },
  {
   "cell_type": "code",
   "execution_count": 133,
   "id": "1c13076f",
   "metadata": {},
   "outputs": [],
   "source": [
    "#Algo v3\n",
    "distance = [[F((taches[i][0] - robots[j][0])**2 + (taches[i][1] - robots[j][1])**2) for i in range(m)] for j in range(n)]\n",
    "distance2 = [[F((taches[i][0] - robots[j][0])**2 + (taches[i][1] - robots[j][1])**2) for i in range(m)] for j in range(n)]\n",
    "position = [[F(i) for j in range(m)] for i in range(n)]\n",
    "\n",
    "for j in range(m): #PAS PROUVé\n",
    "    for i in range(n):\n",
    "        for k in range(i+1,n):\n",
    "            if(distance2[k][j]<distance2[i][j]):\n",
    "                tmp = distance2[i][j]\n",
    "                distance2[i][j] = distance2[k][j]\n",
    "                distance2[k][j] = tmp\n",
    "                tmp = position[i][j]\n",
    "                position[i][j] = position[k][j]\n",
    "                position[k][j] = tmp"
   ]
  },
  {
   "cell_type": "code",
   "execution_count": null,
   "id": "a5daf707",
   "metadata": {},
   "outputs": [],
   "source": []
  },
  {
   "cell_type": "code",
   "execution_count": 134,
   "id": "8d00d65f",
   "metadata": {},
   "outputs": [
    {
     "data": {
      "text/plain": [
       "[[10, 5, 12, 1, 3, 6, 6, 8, 12, 9, 8, 9, 10, 8, 12, 3, 12, 3, 2, 2],\n",
       " [5, 10, 7, 0, 2, 8, 13, 6, 7, 14, 1, 12, 5, 6, 3, 2, 5, 12, 3, 11],\n",
       " [12, 3, 3, 11, 4, 13, 7, 13, 13, 12, 6, 7, 9, 13, 7, 5, 9, 5, 4, 0],\n",
       " [3, 12, 13, 2, 12, 7, 8, 7, 6, 13, 0, 13, 12, 7, 4, 4, 10, 4, 11, 4],\n",
       " [9, 2, 6, 4, 5, 4, 4, 1, 3, 7, 13, 14, 3, 4, 6, 12, 3, 7, 5, 3],\n",
       " [7, 4, 8, 8, 11, 11, 12, 4, 9, 6, 11, 6, 7, 14, 13, 10, 7, 2, 12, 1],\n",
       " [4, 7, 4, 6, 7, 12, 11, 11, 8, 8, 7, 3, 13, 1, 8, 11, 13, 6, 0, 8],\n",
       " [13, 11, 9, 7, 10, 3, 14, 0, 4, 3, 4, 8, 6, 11, 11, 0, 6, 11, 7, 12],\n",
       " [6, 9, 11, 13, 8, 0, 3, 14, 14, 4, 14, 5, 14, 0, 9, 7, 4, 13, 10, 7],\n",
       " [8, 6, 14, 3, 6, 14, 0, 12, 11, 5, 2, 4, 4, 12, 2, 8, 8, 10, 8, 6],\n",
       " [2, 13, 5, 12, 0, 1, 1, 3, 5, 10, 12, 10, 8, 3, 5, 6, 14, 8, 1, 5],\n",
       " [11, 8, 2, 14, 13, 9, 9, 2, 10, 11, 3, 11, 11, 2, 0, 1, 11, 9, 6, 13],\n",
       " [14, 0, 10, 5, 1, 2, 2, 9, 2, 0, 9, 2, 2, 9, 14, 13, 2, 0, 13, 10],\n",
       " [0, 1, 0, 9, 9, 5, 5, 5, 0, 2, 5, 0, 0, 5, 10, 9, 0, 1, 9, 9],\n",
       " [1, 14, 1, 10, 14, 10, 10, 10, 1, 1, 10, 1, 1, 10, 1, 14, 1, 14, 14, 14]]"
      ]
     },
     "execution_count": 134,
     "metadata": {},
     "output_type": "execute_result"
    }
   ],
   "source": [
    "position"
   ]
  },
  {
   "cell_type": "code",
   "execution_count": null,
   "id": "7ca9c652",
   "metadata": {},
   "outputs": [],
   "source": []
  },
  {
   "cell_type": "code",
   "execution_count": null,
   "id": "92f75ac1",
   "metadata": {},
   "outputs": [],
   "source": []
  }
 ],
 "metadata": {
  "kernelspec": {
   "display_name": "SageMath 9.5",
   "language": "sage",
   "name": "sagemath"
  },
  "language_info": {
   "codemirror_mode": {
    "name": "ipython",
    "version": 3
   },
   "file_extension": ".py",
   "mimetype": "text/x-python",
   "name": "python",
   "nbconvert_exporter": "python",
   "pygments_lexer": "ipython3",
   "version": "3.10.6"
  }
 },
 "nbformat": 4,
 "nbformat_minor": 5
}
